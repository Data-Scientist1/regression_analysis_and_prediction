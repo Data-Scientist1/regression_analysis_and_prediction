{
 "cells": [
  {
   "cell_type": "code",
   "execution_count": 1,
   "id": "47860510",
   "metadata": {
    "_cell_guid": "b1076dfc-b9ad-4769-8c92-a6c4dae69d19",
    "_uuid": "8f2839f25d086af736a60e9eeb907d3b93b6e0e5",
    "execution": {
     "iopub.execute_input": "2022-01-03T12:26:23.915665Z",
     "iopub.status.busy": "2022-01-03T12:26:23.914757Z",
     "iopub.status.idle": "2022-01-03T12:26:30.225657Z",
     "shell.execute_reply": "2022-01-03T12:26:30.226187Z",
     "shell.execute_reply.started": "2022-01-03T12:17:21.226402Z"
    },
    "papermill": {
     "duration": 6.341653,
     "end_time": "2022-01-03T12:26:30.226496",
     "exception": false,
     "start_time": "2022-01-03T12:26:23.884843",
     "status": "completed"
    },
    "tags": []
   },
   "outputs": [],
   "source": [
    "\n",
    "import numpy as np # linear algebra\n",
    "import pandas as pd # data processing, CSV file I/O (e.g. pd.read_csv)\n",
    "import matplotlib.pyplot as plt\n",
    "import seaborn as sns\n",
    "import tensorflow as tf\n",
    "import re\n",
    "\n",
    "sns.set()\n"
   ]
  },
  {
   "cell_type": "code",
   "execution_count": 2,
   "id": "09a5b7fd",
   "metadata": {
    "execution": {
     "iopub.execute_input": "2022-01-03T12:26:30.278599Z",
     "iopub.status.busy": "2022-01-03T12:26:30.277804Z",
     "iopub.status.idle": "2022-01-03T12:26:30.334181Z",
     "shell.execute_reply": "2022-01-03T12:26:30.333574Z",
     "shell.execute_reply.started": "2022-01-03T12:17:21.240872Z"
    },
    "papermill": {
     "duration": 0.084606,
     "end_time": "2022-01-03T12:26:30.334328",
     "exception": false,
     "start_time": "2022-01-03T12:26:30.249722",
     "status": "completed"
    },
    "tags": []
   },
   "outputs": [
    {
     "data": {
      "text/html": [
       "<div>\n",
       "<style scoped>\n",
       "    .dataframe tbody tr th:only-of-type {\n",
       "        vertical-align: middle;\n",
       "    }\n",
       "\n",
       "    .dataframe tbody tr th {\n",
       "        vertical-align: top;\n",
       "    }\n",
       "\n",
       "    .dataframe thead th {\n",
       "        text-align: right;\n",
       "    }\n",
       "</style>\n",
       "<table border=\"1\" class=\"dataframe\">\n",
       "  <thead>\n",
       "    <tr style=\"text-align: right;\">\n",
       "      <th></th>\n",
       "      <th>laptop_ID</th>\n",
       "      <th>Company</th>\n",
       "      <th>Product</th>\n",
       "      <th>TypeName</th>\n",
       "      <th>Inches</th>\n",
       "      <th>ScreenResolution</th>\n",
       "      <th>Cpu</th>\n",
       "      <th>Ram</th>\n",
       "      <th>Memory</th>\n",
       "      <th>Gpu</th>\n",
       "      <th>OpSys</th>\n",
       "      <th>Weight</th>\n",
       "      <th>Price_euros</th>\n",
       "    </tr>\n",
       "  </thead>\n",
       "  <tbody>\n",
       "    <tr>\n",
       "      <th>0</th>\n",
       "      <td>1</td>\n",
       "      <td>Apple</td>\n",
       "      <td>MacBook Pro</td>\n",
       "      <td>Ultrabook</td>\n",
       "      <td>13.3</td>\n",
       "      <td>IPS Panel Retina Display 2560x1600</td>\n",
       "      <td>Intel Core i5 2.3GHz</td>\n",
       "      <td>8GB</td>\n",
       "      <td>128GB SSD</td>\n",
       "      <td>Intel Iris Plus Graphics 640</td>\n",
       "      <td>macOS</td>\n",
       "      <td>1.37kg</td>\n",
       "      <td>1339.69</td>\n",
       "    </tr>\n",
       "    <tr>\n",
       "      <th>1</th>\n",
       "      <td>2</td>\n",
       "      <td>Apple</td>\n",
       "      <td>Macbook Air</td>\n",
       "      <td>Ultrabook</td>\n",
       "      <td>13.3</td>\n",
       "      <td>1440x900</td>\n",
       "      <td>Intel Core i5 1.8GHz</td>\n",
       "      <td>8GB</td>\n",
       "      <td>128GB Flash Storage</td>\n",
       "      <td>Intel HD Graphics 6000</td>\n",
       "      <td>macOS</td>\n",
       "      <td>1.34kg</td>\n",
       "      <td>898.94</td>\n",
       "    </tr>\n",
       "    <tr>\n",
       "      <th>2</th>\n",
       "      <td>3</td>\n",
       "      <td>HP</td>\n",
       "      <td>250 G6</td>\n",
       "      <td>Notebook</td>\n",
       "      <td>15.6</td>\n",
       "      <td>Full HD 1920x1080</td>\n",
       "      <td>Intel Core i5 7200U 2.5GHz</td>\n",
       "      <td>8GB</td>\n",
       "      <td>256GB SSD</td>\n",
       "      <td>Intel HD Graphics 620</td>\n",
       "      <td>No OS</td>\n",
       "      <td>1.86kg</td>\n",
       "      <td>575.00</td>\n",
       "    </tr>\n",
       "    <tr>\n",
       "      <th>3</th>\n",
       "      <td>4</td>\n",
       "      <td>Apple</td>\n",
       "      <td>MacBook Pro</td>\n",
       "      <td>Ultrabook</td>\n",
       "      <td>15.4</td>\n",
       "      <td>IPS Panel Retina Display 2880x1800</td>\n",
       "      <td>Intel Core i7 2.7GHz</td>\n",
       "      <td>16GB</td>\n",
       "      <td>512GB SSD</td>\n",
       "      <td>AMD Radeon Pro 455</td>\n",
       "      <td>macOS</td>\n",
       "      <td>1.83kg</td>\n",
       "      <td>2537.45</td>\n",
       "    </tr>\n",
       "    <tr>\n",
       "      <th>4</th>\n",
       "      <td>5</td>\n",
       "      <td>Apple</td>\n",
       "      <td>MacBook Pro</td>\n",
       "      <td>Ultrabook</td>\n",
       "      <td>13.3</td>\n",
       "      <td>IPS Panel Retina Display 2560x1600</td>\n",
       "      <td>Intel Core i5 3.1GHz</td>\n",
       "      <td>8GB</td>\n",
       "      <td>256GB SSD</td>\n",
       "      <td>Intel Iris Plus Graphics 650</td>\n",
       "      <td>macOS</td>\n",
       "      <td>1.37kg</td>\n",
       "      <td>1803.60</td>\n",
       "    </tr>\n",
       "  </tbody>\n",
       "</table>\n",
       "</div>"
      ],
      "text/plain": [
       "   laptop_ID Company      Product   TypeName  Inches  \\\n",
       "0          1   Apple  MacBook Pro  Ultrabook    13.3   \n",
       "1          2   Apple  Macbook Air  Ultrabook    13.3   \n",
       "2          3      HP       250 G6   Notebook    15.6   \n",
       "3          4   Apple  MacBook Pro  Ultrabook    15.4   \n",
       "4          5   Apple  MacBook Pro  Ultrabook    13.3   \n",
       "\n",
       "                     ScreenResolution                         Cpu   Ram  \\\n",
       "0  IPS Panel Retina Display 2560x1600        Intel Core i5 2.3GHz   8GB   \n",
       "1                            1440x900        Intel Core i5 1.8GHz   8GB   \n",
       "2                   Full HD 1920x1080  Intel Core i5 7200U 2.5GHz   8GB   \n",
       "3  IPS Panel Retina Display 2880x1800        Intel Core i7 2.7GHz  16GB   \n",
       "4  IPS Panel Retina Display 2560x1600        Intel Core i5 3.1GHz   8GB   \n",
       "\n",
       "                Memory                           Gpu  OpSys  Weight  \\\n",
       "0            128GB SSD  Intel Iris Plus Graphics 640  macOS  1.37kg   \n",
       "1  128GB Flash Storage        Intel HD Graphics 6000  macOS  1.34kg   \n",
       "2            256GB SSD         Intel HD Graphics 620  No OS  1.86kg   \n",
       "3            512GB SSD            AMD Radeon Pro 455  macOS  1.83kg   \n",
       "4            256GB SSD  Intel Iris Plus Graphics 650  macOS  1.37kg   \n",
       "\n",
       "   Price_euros  \n",
       "0      1339.69  \n",
       "1       898.94  \n",
       "2       575.00  \n",
       "3      2537.45  \n",
       "4      1803.60  "
      ]
     },
     "execution_count": 2,
     "metadata": {},
     "output_type": "execute_result"
    }
   ],
   "source": [
    "df_lap = pd.read_csv('laptop_price.csv', encoding='latin-1')\n",
    "df_lap.head()"
   ]
  },
  {
   "cell_type": "markdown",
   "id": "8f09f180",
   "metadata": {
    "papermill": {
     "duration": 0.018655,
     "end_time": "2022-01-03T12:26:30.372162",
     "exception": false,
     "start_time": "2022-01-03T12:26:30.353507",
     "status": "completed"
    },
    "tags": []
   },
   "source": [
    "## Data cleaning"
   ]
  },
  {
   "cell_type": "code",
   "execution_count": 3,
   "id": "79569984",
   "metadata": {
    "execution": {
     "iopub.execute_input": "2022-01-03T12:26:30.415202Z",
     "iopub.status.busy": "2022-01-03T12:26:30.414490Z",
     "iopub.status.idle": "2022-01-03T12:26:30.427485Z",
     "shell.execute_reply": "2022-01-03T12:26:30.428132Z",
     "shell.execute_reply.started": "2022-01-03T12:17:21.275891Z"
    },
    "papermill": {
     "duration": 0.033925,
     "end_time": "2022-01-03T12:26:30.428310",
     "exception": false,
     "start_time": "2022-01-03T12:26:30.394385",
     "status": "completed"
    },
    "tags": []
   },
   "outputs": [
    {
     "data": {
      "text/plain": [
       "laptop_ID           0\n",
       "Company             0\n",
       "Product             0\n",
       "TypeName            0\n",
       "Inches              0\n",
       "ScreenResolution    0\n",
       "Cpu                 0\n",
       "Ram                 0\n",
       "Memory              0\n",
       "Gpu                 0\n",
       "OpSys               0\n",
       "Weight              0\n",
       "Price_euros         0\n",
       "dtype: int64"
      ]
     },
     "execution_count": 3,
     "metadata": {},
     "output_type": "execute_result"
    }
   ],
   "source": [
    "df_lap.isna().sum()"
   ]
  },
  {
   "cell_type": "code",
   "execution_count": 4,
   "id": "7bfbddf6",
   "metadata": {
    "execution": {
     "iopub.execute_input": "2022-01-03T12:26:30.467370Z",
     "iopub.status.busy": "2022-01-03T12:26:30.466587Z",
     "iopub.status.idle": "2022-01-03T12:26:30.475627Z",
     "shell.execute_reply": "2022-01-03T12:26:30.477002Z",
     "shell.execute_reply.started": "2022-01-03T12:17:21.288508Z"
    },
    "papermill": {
     "duration": 0.031668,
     "end_time": "2022-01-03T12:26:30.477221",
     "exception": false,
     "start_time": "2022-01-03T12:26:30.445553",
     "status": "completed"
    },
    "tags": []
   },
   "outputs": [
    {
     "data": {
      "text/plain": [
       "laptop_ID             int64\n",
       "Company              object\n",
       "Product              object\n",
       "TypeName             object\n",
       "Inches              float64\n",
       "ScreenResolution     object\n",
       "Cpu                  object\n",
       "Ram                  object\n",
       "Memory               object\n",
       "Gpu                  object\n",
       "OpSys                object\n",
       "Weight               object\n",
       "Price_euros         float64\n",
       "dtype: object"
      ]
     },
     "execution_count": 4,
     "metadata": {},
     "output_type": "execute_result"
    }
   ],
   "source": [
    "df_lap.dtypes"
   ]
  },
  {
   "cell_type": "code",
   "execution_count": 5,
   "id": "75667e7f",
   "metadata": {
    "execution": {
     "iopub.execute_input": "2022-01-03T12:26:30.530533Z",
     "iopub.status.busy": "2022-01-03T12:26:30.529752Z",
     "iopub.status.idle": "2022-01-03T12:26:30.545256Z",
     "shell.execute_reply": "2022-01-03T12:26:30.545743Z",
     "shell.execute_reply.started": "2022-01-03T12:17:21.298755Z"
    },
    "papermill": {
     "duration": 0.047173,
     "end_time": "2022-01-03T12:26:30.545945",
     "exception": false,
     "start_time": "2022-01-03T12:26:30.498772",
     "status": "completed"
    },
    "tags": []
   },
   "outputs": [],
   "source": [
    "\n",
    "df_lap['Weight'] = df_lap['Weight'].apply(lambda x: re.search('[+-]?([0-9]*[.])?[0-9]+', x).group())\n",
    "df_lap['Weight'] = df_lap.Weight.astype('float')\n",
    "\n",
    "df_lap.drop('laptop_ID', inplace=True, axis=1)"
   ]
  },
  {
   "cell_type": "markdown",
   "id": "60915e6b",
   "metadata": {
    "papermill": {
     "duration": 0.017469,
     "end_time": "2022-01-03T12:26:30.581045",
     "exception": false,
     "start_time": "2022-01-03T12:26:30.563576",
     "status": "completed"
    },
    "tags": []
   },
   "source": [
    "## Data Processing"
   ]
  },
  {
   "cell_type": "code",
   "execution_count": 6,
   "id": "31bf2755",
   "metadata": {
    "execution": {
     "iopub.execute_input": "2022-01-03T12:26:30.622132Z",
     "iopub.status.busy": "2022-01-03T12:26:30.621116Z",
     "iopub.status.idle": "2022-01-03T12:26:30.626380Z",
     "shell.execute_reply": "2022-01-03T12:26:30.626989Z",
     "shell.execute_reply.started": "2022-01-03T12:17:21.314323Z"
    },
    "papermill": {
     "duration": 0.027826,
     "end_time": "2022-01-03T12:26:30.627208",
     "exception": false,
     "start_time": "2022-01-03T12:26:30.599382",
     "status": "completed"
    },
    "tags": []
   },
   "outputs": [],
   "source": [
    "#split train and target data\n",
    "\n",
    "train, train_target = df_lap.iloc[:, :-1], df_lap.iloc[:, -1]"
   ]
  },
  {
   "cell_type": "code",
   "execution_count": 7,
   "id": "cdc6bc8d",
   "metadata": {
    "execution": {
     "iopub.execute_input": "2022-01-03T12:26:30.667606Z",
     "iopub.status.busy": "2022-01-03T12:26:30.666529Z",
     "iopub.status.idle": "2022-01-03T12:26:30.672533Z",
     "shell.execute_reply": "2022-01-03T12:26:30.673157Z",
     "shell.execute_reply.started": "2022-01-03T12:17:21.321879Z"
    },
    "papermill": {
     "duration": 0.028099,
     "end_time": "2022-01-03T12:26:30.673350",
     "exception": false,
     "start_time": "2022-01-03T12:26:30.645251",
     "status": "completed"
    },
    "tags": []
   },
   "outputs": [],
   "source": [
    "num_col = [x for x in train.columns if train[x].dtype != 'object']\n",
    "str_col = [x for x in train.columns if train[x].dtype == 'object']"
   ]
  },
  {
   "cell_type": "code",
   "execution_count": 8,
   "id": "2c7c6cb3",
   "metadata": {
    "execution": {
     "iopub.execute_input": "2022-01-03T12:26:30.716863Z",
     "iopub.status.busy": "2022-01-03T12:26:30.716191Z",
     "iopub.status.idle": "2022-01-03T12:26:30.718234Z",
     "shell.execute_reply": "2022-01-03T12:26:30.718762Z",
     "shell.execute_reply.started": "2022-01-03T12:17:21.334704Z"
    },
    "papermill": {
     "duration": 0.027669,
     "end_time": "2022-01-03T12:26:30.718949",
     "exception": false,
     "start_time": "2022-01-03T12:26:30.691280",
     "status": "completed"
    },
    "tags": []
   },
   "outputs": [],
   "source": [
    "#standardize numerical columns\n",
    "\n",
    "for i in num_col:\n",
    "    train[i] = (train[i] - train[i].mean()) / train[i].std()"
   ]
  },
  {
   "cell_type": "code",
   "execution_count": 9,
   "id": "cd360f90",
   "metadata": {
    "execution": {
     "iopub.execute_input": "2022-01-03T12:26:30.759262Z",
     "iopub.status.busy": "2022-01-03T12:26:30.758435Z",
     "iopub.status.idle": "2022-01-03T12:26:30.763069Z",
     "shell.execute_reply": "2022-01-03T12:26:30.763605Z",
     "shell.execute_reply.started": "2022-01-03T12:17:21.348292Z"
    },
    "papermill": {
     "duration": 0.026625,
     "end_time": "2022-01-03T12:26:30.763779",
     "exception": false,
     "start_time": "2022-01-03T12:26:30.737154",
     "status": "completed"
    },
    "tags": []
   },
   "outputs": [],
   "source": [
    "train_target = np.log(train_target)"
   ]
  },
  {
   "cell_type": "code",
   "execution_count": 10,
   "id": "7ca6d9e6",
   "metadata": {
    "execution": {
     "iopub.execute_input": "2022-01-03T12:26:30.803226Z",
     "iopub.status.busy": "2022-01-03T12:26:30.802492Z",
     "iopub.status.idle": "2022-01-03T12:26:30.837127Z",
     "shell.execute_reply": "2022-01-03T12:26:30.837767Z",
     "shell.execute_reply.started": "2022-01-03T12:17:21.361183Z"
    },
    "papermill": {
     "duration": 0.056556,
     "end_time": "2022-01-03T12:26:30.837961",
     "exception": false,
     "start_time": "2022-01-03T12:26:30.781405",
     "status": "completed"
    },
    "tags": []
   },
   "outputs": [],
   "source": [
    "train = pd.get_dummies(train)"
   ]
  },
  {
   "cell_type": "code",
   "execution_count": 11,
   "id": "c4e6f9e3",
   "metadata": {
    "execution": {
     "iopub.execute_input": "2022-01-03T12:26:30.879494Z",
     "iopub.status.busy": "2022-01-03T12:26:30.878786Z",
     "iopub.status.idle": "2022-01-03T12:26:30.901303Z",
     "shell.execute_reply": "2022-01-03T12:26:30.901796Z",
     "shell.execute_reply.started": "2022-01-03T12:17:21.387555Z"
    },
    "papermill": {
     "duration": 0.044199,
     "end_time": "2022-01-03T12:26:30.901974",
     "exception": false,
     "start_time": "2022-01-03T12:26:30.857775",
     "status": "completed"
    },
    "tags": []
   },
   "outputs": [
    {
     "data": {
      "text/html": [
       "<div>\n",
       "<style scoped>\n",
       "    .dataframe tbody tr th:only-of-type {\n",
       "        vertical-align: middle;\n",
       "    }\n",
       "\n",
       "    .dataframe tbody tr th {\n",
       "        vertical-align: top;\n",
       "    }\n",
       "\n",
       "    .dataframe thead th {\n",
       "        text-align: right;\n",
       "    }\n",
       "</style>\n",
       "<table border=\"1\" class=\"dataframe\">\n",
       "  <thead>\n",
       "    <tr style=\"text-align: right;\">\n",
       "      <th></th>\n",
       "      <th>Inches</th>\n",
       "      <th>Weight</th>\n",
       "      <th>Company_Acer</th>\n",
       "      <th>Company_Apple</th>\n",
       "      <th>Company_Asus</th>\n",
       "      <th>Company_Chuwi</th>\n",
       "      <th>Company_Dell</th>\n",
       "      <th>Company_Fujitsu</th>\n",
       "      <th>Company_Google</th>\n",
       "      <th>Company_HP</th>\n",
       "      <th>...</th>\n",
       "      <th>Gpu_Nvidia Quadro M620M</th>\n",
       "      <th>OpSys_Android</th>\n",
       "      <th>OpSys_Chrome OS</th>\n",
       "      <th>OpSys_Linux</th>\n",
       "      <th>OpSys_Mac OS X</th>\n",
       "      <th>OpSys_No OS</th>\n",
       "      <th>OpSys_Windows 10</th>\n",
       "      <th>OpSys_Windows 10 S</th>\n",
       "      <th>OpSys_Windows 7</th>\n",
       "      <th>OpSys_macOS</th>\n",
       "    </tr>\n",
       "  </thead>\n",
       "  <tbody>\n",
       "    <tr>\n",
       "      <th>0</th>\n",
       "      <td>-1.203945</td>\n",
       "      <td>-1.004897</td>\n",
       "      <td>0</td>\n",
       "      <td>1</td>\n",
       "      <td>0</td>\n",
       "      <td>0</td>\n",
       "      <td>0</td>\n",
       "      <td>0</td>\n",
       "      <td>0</td>\n",
       "      <td>0</td>\n",
       "      <td>...</td>\n",
       "      <td>0</td>\n",
       "      <td>0</td>\n",
       "      <td>0</td>\n",
       "      <td>0</td>\n",
       "      <td>0</td>\n",
       "      <td>0</td>\n",
       "      <td>0</td>\n",
       "      <td>0</td>\n",
       "      <td>0</td>\n",
       "      <td>1</td>\n",
       "    </tr>\n",
       "    <tr>\n",
       "      <th>1</th>\n",
       "      <td>-1.203945</td>\n",
       "      <td>-1.049978</td>\n",
       "      <td>0</td>\n",
       "      <td>1</td>\n",
       "      <td>0</td>\n",
       "      <td>0</td>\n",
       "      <td>0</td>\n",
       "      <td>0</td>\n",
       "      <td>0</td>\n",
       "      <td>0</td>\n",
       "      <td>...</td>\n",
       "      <td>0</td>\n",
       "      <td>0</td>\n",
       "      <td>0</td>\n",
       "      <td>0</td>\n",
       "      <td>0</td>\n",
       "      <td>0</td>\n",
       "      <td>0</td>\n",
       "      <td>0</td>\n",
       "      <td>0</td>\n",
       "      <td>1</td>\n",
       "    </tr>\n",
       "    <tr>\n",
       "      <th>2</th>\n",
       "      <td>0.408615</td>\n",
       "      <td>-0.268581</td>\n",
       "      <td>0</td>\n",
       "      <td>0</td>\n",
       "      <td>0</td>\n",
       "      <td>0</td>\n",
       "      <td>0</td>\n",
       "      <td>0</td>\n",
       "      <td>0</td>\n",
       "      <td>1</td>\n",
       "      <td>...</td>\n",
       "      <td>0</td>\n",
       "      <td>0</td>\n",
       "      <td>0</td>\n",
       "      <td>0</td>\n",
       "      <td>0</td>\n",
       "      <td>1</td>\n",
       "      <td>0</td>\n",
       "      <td>0</td>\n",
       "      <td>0</td>\n",
       "      <td>0</td>\n",
       "    </tr>\n",
       "    <tr>\n",
       "      <th>3</th>\n",
       "      <td>0.268392</td>\n",
       "      <td>-0.313661</td>\n",
       "      <td>0</td>\n",
       "      <td>1</td>\n",
       "      <td>0</td>\n",
       "      <td>0</td>\n",
       "      <td>0</td>\n",
       "      <td>0</td>\n",
       "      <td>0</td>\n",
       "      <td>0</td>\n",
       "      <td>...</td>\n",
       "      <td>0</td>\n",
       "      <td>0</td>\n",
       "      <td>0</td>\n",
       "      <td>0</td>\n",
       "      <td>0</td>\n",
       "      <td>0</td>\n",
       "      <td>0</td>\n",
       "      <td>0</td>\n",
       "      <td>0</td>\n",
       "      <td>1</td>\n",
       "    </tr>\n",
       "    <tr>\n",
       "      <th>4</th>\n",
       "      <td>-1.203945</td>\n",
       "      <td>-1.004897</td>\n",
       "      <td>0</td>\n",
       "      <td>1</td>\n",
       "      <td>0</td>\n",
       "      <td>0</td>\n",
       "      <td>0</td>\n",
       "      <td>0</td>\n",
       "      <td>0</td>\n",
       "      <td>0</td>\n",
       "      <td>...</td>\n",
       "      <td>0</td>\n",
       "      <td>0</td>\n",
       "      <td>0</td>\n",
       "      <td>0</td>\n",
       "      <td>0</td>\n",
       "      <td>0</td>\n",
       "      <td>0</td>\n",
       "      <td>0</td>\n",
       "      <td>0</td>\n",
       "      <td>1</td>\n",
       "    </tr>\n",
       "    <tr>\n",
       "      <th>...</th>\n",
       "      <td>...</td>\n",
       "      <td>...</td>\n",
       "      <td>...</td>\n",
       "      <td>...</td>\n",
       "      <td>...</td>\n",
       "      <td>...</td>\n",
       "      <td>...</td>\n",
       "      <td>...</td>\n",
       "      <td>...</td>\n",
       "      <td>...</td>\n",
       "      <td>...</td>\n",
       "      <td>...</td>\n",
       "      <td>...</td>\n",
       "      <td>...</td>\n",
       "      <td>...</td>\n",
       "      <td>...</td>\n",
       "      <td>...</td>\n",
       "      <td>...</td>\n",
       "      <td>...</td>\n",
       "      <td>...</td>\n",
       "      <td>...</td>\n",
       "    </tr>\n",
       "    <tr>\n",
       "      <th>1298</th>\n",
       "      <td>-0.713166</td>\n",
       "      <td>-0.358742</td>\n",
       "      <td>0</td>\n",
       "      <td>0</td>\n",
       "      <td>0</td>\n",
       "      <td>0</td>\n",
       "      <td>0</td>\n",
       "      <td>0</td>\n",
       "      <td>0</td>\n",
       "      <td>0</td>\n",
       "      <td>...</td>\n",
       "      <td>0</td>\n",
       "      <td>0</td>\n",
       "      <td>0</td>\n",
       "      <td>0</td>\n",
       "      <td>0</td>\n",
       "      <td>0</td>\n",
       "      <td>1</td>\n",
       "      <td>0</td>\n",
       "      <td>0</td>\n",
       "      <td>0</td>\n",
       "    </tr>\n",
       "    <tr>\n",
       "      <th>1299</th>\n",
       "      <td>-1.203945</td>\n",
       "      <td>-1.110085</td>\n",
       "      <td>0</td>\n",
       "      <td>0</td>\n",
       "      <td>0</td>\n",
       "      <td>0</td>\n",
       "      <td>0</td>\n",
       "      <td>0</td>\n",
       "      <td>0</td>\n",
       "      <td>0</td>\n",
       "      <td>...</td>\n",
       "      <td>0</td>\n",
       "      <td>0</td>\n",
       "      <td>0</td>\n",
       "      <td>0</td>\n",
       "      <td>0</td>\n",
       "      <td>0</td>\n",
       "      <td>1</td>\n",
       "      <td>0</td>\n",
       "      <td>0</td>\n",
       "      <td>0</td>\n",
       "    </tr>\n",
       "    <tr>\n",
       "      <th>1300</th>\n",
       "      <td>-0.713166</td>\n",
       "      <td>-0.809548</td>\n",
       "      <td>0</td>\n",
       "      <td>0</td>\n",
       "      <td>0</td>\n",
       "      <td>0</td>\n",
       "      <td>0</td>\n",
       "      <td>0</td>\n",
       "      <td>0</td>\n",
       "      <td>0</td>\n",
       "      <td>...</td>\n",
       "      <td>0</td>\n",
       "      <td>0</td>\n",
       "      <td>0</td>\n",
       "      <td>0</td>\n",
       "      <td>0</td>\n",
       "      <td>0</td>\n",
       "      <td>1</td>\n",
       "      <td>0</td>\n",
       "      <td>0</td>\n",
       "      <td>0</td>\n",
       "    </tr>\n",
       "    <tr>\n",
       "      <th>1301</th>\n",
       "      <td>0.408615</td>\n",
       "      <td>0.227306</td>\n",
       "      <td>0</td>\n",
       "      <td>0</td>\n",
       "      <td>0</td>\n",
       "      <td>0</td>\n",
       "      <td>0</td>\n",
       "      <td>0</td>\n",
       "      <td>0</td>\n",
       "      <td>1</td>\n",
       "      <td>...</td>\n",
       "      <td>0</td>\n",
       "      <td>0</td>\n",
       "      <td>0</td>\n",
       "      <td>0</td>\n",
       "      <td>0</td>\n",
       "      <td>0</td>\n",
       "      <td>1</td>\n",
       "      <td>0</td>\n",
       "      <td>0</td>\n",
       "      <td>0</td>\n",
       "    </tr>\n",
       "    <tr>\n",
       "      <th>1302</th>\n",
       "      <td>0.408615</td>\n",
       "      <td>0.242333</td>\n",
       "      <td>0</td>\n",
       "      <td>0</td>\n",
       "      <td>1</td>\n",
       "      <td>0</td>\n",
       "      <td>0</td>\n",
       "      <td>0</td>\n",
       "      <td>0</td>\n",
       "      <td>0</td>\n",
       "      <td>...</td>\n",
       "      <td>0</td>\n",
       "      <td>0</td>\n",
       "      <td>0</td>\n",
       "      <td>0</td>\n",
       "      <td>0</td>\n",
       "      <td>0</td>\n",
       "      <td>1</td>\n",
       "      <td>0</td>\n",
       "      <td>0</td>\n",
       "      <td>0</td>\n",
       "    </tr>\n",
       "  </tbody>\n",
       "</table>\n",
       "<p>1303 rows × 970 columns</p>\n",
       "</div>"
      ],
      "text/plain": [
       "        Inches    Weight  Company_Acer  Company_Apple  Company_Asus  \\\n",
       "0    -1.203945 -1.004897             0              1             0   \n",
       "1    -1.203945 -1.049978             0              1             0   \n",
       "2     0.408615 -0.268581             0              0             0   \n",
       "3     0.268392 -0.313661             0              1             0   \n",
       "4    -1.203945 -1.004897             0              1             0   \n",
       "...        ...       ...           ...            ...           ...   \n",
       "1298 -0.713166 -0.358742             0              0             0   \n",
       "1299 -1.203945 -1.110085             0              0             0   \n",
       "1300 -0.713166 -0.809548             0              0             0   \n",
       "1301  0.408615  0.227306             0              0             0   \n",
       "1302  0.408615  0.242333             0              0             1   \n",
       "\n",
       "      Company_Chuwi  Company_Dell  Company_Fujitsu  Company_Google  \\\n",
       "0                 0             0                0               0   \n",
       "1                 0             0                0               0   \n",
       "2                 0             0                0               0   \n",
       "3                 0             0                0               0   \n",
       "4                 0             0                0               0   \n",
       "...             ...           ...              ...             ...   \n",
       "1298              0             0                0               0   \n",
       "1299              0             0                0               0   \n",
       "1300              0             0                0               0   \n",
       "1301              0             0                0               0   \n",
       "1302              0             0                0               0   \n",
       "\n",
       "      Company_HP  ...  Gpu_Nvidia Quadro M620M  OpSys_Android  \\\n",
       "0              0  ...                        0              0   \n",
       "1              0  ...                        0              0   \n",
       "2              1  ...                        0              0   \n",
       "3              0  ...                        0              0   \n",
       "4              0  ...                        0              0   \n",
       "...          ...  ...                      ...            ...   \n",
       "1298           0  ...                        0              0   \n",
       "1299           0  ...                        0              0   \n",
       "1300           0  ...                        0              0   \n",
       "1301           1  ...                        0              0   \n",
       "1302           0  ...                        0              0   \n",
       "\n",
       "      OpSys_Chrome OS  OpSys_Linux  OpSys_Mac OS X  OpSys_No OS  \\\n",
       "0                   0            0               0            0   \n",
       "1                   0            0               0            0   \n",
       "2                   0            0               0            1   \n",
       "3                   0            0               0            0   \n",
       "4                   0            0               0            0   \n",
       "...               ...          ...             ...          ...   \n",
       "1298                0            0               0            0   \n",
       "1299                0            0               0            0   \n",
       "1300                0            0               0            0   \n",
       "1301                0            0               0            0   \n",
       "1302                0            0               0            0   \n",
       "\n",
       "      OpSys_Windows 10  OpSys_Windows 10 S  OpSys_Windows 7  OpSys_macOS  \n",
       "0                    0                   0                0            1  \n",
       "1                    0                   0                0            1  \n",
       "2                    0                   0                0            0  \n",
       "3                    0                   0                0            1  \n",
       "4                    0                   0                0            1  \n",
       "...                ...                 ...              ...          ...  \n",
       "1298                 1                   0                0            0  \n",
       "1299                 1                   0                0            0  \n",
       "1300                 1                   0                0            0  \n",
       "1301                 1                   0                0            0  \n",
       "1302                 1                   0                0            0  \n",
       "\n",
       "[1303 rows x 970 columns]"
      ]
     },
     "execution_count": 11,
     "metadata": {},
     "output_type": "execute_result"
    }
   ],
   "source": [
    "train"
   ]
  },
  {
   "cell_type": "markdown",
   "id": "e2b710e1",
   "metadata": {
    "papermill": {
     "duration": 0.020526,
     "end_time": "2022-01-03T12:26:30.941002",
     "exception": false,
     "start_time": "2022-01-03T12:26:30.920476",
     "status": "completed"
    },
    "tags": []
   },
   "source": [
    "## train a Deep neuaral network"
   ]
  },
  {
   "cell_type": "code",
   "execution_count": 12,
   "id": "c549b928",
   "metadata": {
    "execution": {
     "iopub.execute_input": "2022-01-03T12:26:30.983805Z",
     "iopub.status.busy": "2022-01-03T12:26:30.983142Z",
     "iopub.status.idle": "2022-01-03T12:26:30.988349Z",
     "shell.execute_reply": "2022-01-03T12:26:30.988835Z",
     "shell.execute_reply.started": "2022-01-03T12:17:21.413504Z"
    },
    "papermill": {
     "duration": 0.028603,
     "end_time": "2022-01-03T12:26:30.989045",
     "exception": false,
     "start_time": "2022-01-03T12:26:30.960442",
     "status": "completed"
    },
    "tags": []
   },
   "outputs": [],
   "source": [
    "# split train and validation\n",
    "\n",
    "train_inputs, train_targets = train[:int(.8 * len(train))], train_target[:int(.8 * len(train_target))]\n",
    "validation_inputs, validation_targets = train[int(.8 * len(train)):], train_target[int(.8 * len(train_target)):]"
   ]
  },
  {
   "cell_type": "code",
   "execution_count": 13,
   "id": "41a43a2d",
   "metadata": {
    "execution": {
     "iopub.execute_input": "2022-01-03T12:26:31.032041Z",
     "iopub.status.busy": "2022-01-03T12:26:31.031197Z",
     "iopub.status.idle": "2022-01-03T12:26:53.785170Z",
     "shell.execute_reply": "2022-01-03T12:26:53.784576Z",
     "shell.execute_reply.started": "2022-01-03T12:20:17.367151Z"
    },
    "papermill": {
     "duration": 22.777597,
     "end_time": "2022-01-03T12:26:53.785336",
     "exception": false,
     "start_time": "2022-01-03T12:26:31.007739",
     "status": "completed"
    },
    "tags": []
   },
   "outputs": [
    {
     "name": "stderr",
     "output_type": "stream",
     "text": [
      "\n",
      "User settings:\n",
      "\n",
      "   KMP_AFFINITY=granularity=fine,verbose,compact,1,0\n",
      "   KMP_BLOCKTIME=0\n",
      "   KMP_SETTINGS=1\n",
      "   KMP_WARNINGS=0\n",
      "\n",
      "Effective settings:\n",
      "\n",
      "   KMP_ABORT_DELAY=0\n",
      "   KMP_ADAPTIVE_LOCK_PROPS='1,1024'\n",
      "   KMP_ALIGN_ALLOC=64\n",
      "   KMP_ALL_THREADPRIVATE=128\n",
      "   KMP_ATOMIC_MODE=2\n",
      "   KMP_BLOCKTIME=0\n",
      "   KMP_CPUINFO_FILE: value is not defined\n",
      "   KMP_DETERMINISTIC_REDUCTION=false\n",
      "   KMP_DEVICE_THREAD_LIMIT=2147483647\n",
      "   KMP_DISP_NUM_BUFFERS=7\n",
      "   KMP_DUPLICATE_LIB_OK=false\n",
      "   KMP_ENABLE_TASK_THROTTLING=true\n",
      "   KMP_FORCE_REDUCTION: value is not defined\n",
      "   KMP_FOREIGN_THREADS_THREADPRIVATE=true\n",
      "   KMP_FORKJOIN_BARRIER='2,2'\n",
      "   KMP_FORKJOIN_BARRIER_PATTERN='hyper,hyper'\n",
      "   KMP_GTID_MODE=3\n",
      "   KMP_HANDLE_SIGNALS=false\n",
      "   KMP_HOT_TEAMS_MAX_LEVEL=1\n",
      "   KMP_HOT_TEAMS_MODE=0\n",
      "   KMP_INIT_AT_FORK=true\n",
      "   KMP_LIBRARY=throughput\n",
      "   KMP_LOCK_KIND=queuing\n",
      "   KMP_MALLOC_POOL_INCR=1M\n",
      "   KMP_NUM_LOCKS_IN_BLOCK=1\n",
      "   KMP_PLAIN_BARRIER='2,2'\n",
      "   KMP_PLAIN_BARRIER_PATTERN='hyper,hyper'\n",
      "   KMP_REDUCTION_BARRIER='1,1'\n",
      "   KMP_REDUCTION_BARRIER_PATTERN='hyper,hyper'\n",
      "   KMP_SCHEDULE='static,balanced;guided,iterative'\n",
      "   KMP_SETTINGS=true\n",
      "   KMP_SPIN_BACKOFF_PARAMS='4096,100'\n",
      "   KMP_STACKOFFSET=64\n",
      "   KMP_STACKPAD=0\n",
      "   KMP_STACKSIZE=8M\n",
      "   KMP_STORAGE_MAP=false\n",
      "   KMP_TASKING=2\n",
      "   KMP_TASKLOOP_MIN_TASKS=0\n",
      "   KMP_TASK_STEALING_CONSTRAINT=1\n",
      "   KMP_TEAMS_THREAD_LIMIT=4\n",
      "   KMP_TOPOLOGY_METHOD=all\n",
      "   KMP_USE_YIELD=1\n",
      "   KMP_VERSION=false\n",
      "   KMP_WARNINGS=false\n",
      "   OMP_AFFINITY_FORMAT='OMP: pid %P tid %i thread %n bound to OS proc set {%A}'\n",
      "   OMP_ALLOCATOR=omp_default_mem_alloc\n",
      "   OMP_CANCELLATION=false\n",
      "   OMP_DEFAULT_DEVICE=0\n",
      "   OMP_DISPLAY_AFFINITY=false\n",
      "   OMP_DISPLAY_ENV=false\n",
      "   OMP_DYNAMIC=false\n",
      "   OMP_MAX_ACTIVE_LEVELS=1\n",
      "   OMP_MAX_TASK_PRIORITY=0\n",
      "   OMP_NESTED: deprecated; max-active-levels-var=1\n",
      "   OMP_NUM_THREADS: value is not defined\n",
      "   OMP_PLACES: value is not defined\n",
      "   OMP_PROC_BIND='intel'\n",
      "   OMP_SCHEDULE='static'\n",
      "   OMP_STACKSIZE=8M\n",
      "   OMP_TARGET_OFFLOAD=DEFAULT\n",
      "   OMP_THREAD_LIMIT=2147483647\n",
      "   OMP_WAIT_POLICY=PASSIVE\n",
      "   KMP_AFFINITY='verbose,warnings,respect,granularity=fine,compact,1,0'\n",
      "\n",
      "2022-01-03 12:26:32.283265: I tensorflow/core/common_runtime/process_util.cc:146] Creating new thread pool with default inter op setting: 2. Tune using inter_op_parallelism_threads for best performance.\n",
      "2022-01-03 12:26:32.446704: I tensorflow/compiler/mlir/mlir_graph_optimization_pass.cc:185] None of the MLIR Optimization Passes are enabled (registered 2)\n"
     ]
    },
    {
     "name": "stdout",
     "output_type": "stream",
     "text": [
      "Epoch 1/50\n",
      "33/33 - 1s - loss: 92.2015 - val_loss: 82.3825\n",
      "Epoch 2/50\n",
      "33/33 - 0s - loss: 62.2388 - val_loss: 37.6786\n",
      "Epoch 3/50\n",
      "33/33 - 0s - loss: 18.2206 - val_loss: 12.4026\n",
      "Epoch 4/50\n",
      "33/33 - 0s - loss: 11.2583 - val_loss: 8.6360\n",
      "Epoch 5/50\n",
      "33/33 - 0s - loss: 9.1112 - val_loss: 7.2313\n",
      "Epoch 6/50\n",
      "33/33 - 0s - loss: 8.6753 - val_loss: 6.4872\n",
      "Epoch 7/50\n",
      "33/33 - 0s - loss: 8.3030 - val_loss: 5.7362\n",
      "Epoch 8/50\n",
      "33/33 - 0s - loss: 7.7995 - val_loss: 5.6435\n",
      "Epoch 9/50\n",
      "33/33 - 0s - loss: 7.4865 - val_loss: 5.3838\n",
      "Epoch 10/50\n",
      "33/33 - 0s - loss: 7.6796 - val_loss: 5.7402\n",
      "Epoch 11/50\n",
      "33/33 - 0s - loss: 7.3338 - val_loss: 4.9780\n",
      "Epoch 12/50\n",
      "33/33 - 0s - loss: 7.1372 - val_loss: 5.8553\n",
      "Epoch 13/50\n",
      "33/33 - 0s - loss: 7.0183 - val_loss: 4.9777\n",
      "Epoch 14/50\n",
      "33/33 - 0s - loss: 7.1855 - val_loss: 5.3446\n",
      "Epoch 15/50\n",
      "33/33 - 0s - loss: 7.1613 - val_loss: 5.0513\n",
      "Epoch 16/50\n",
      "33/33 - 0s - loss: 7.0202 - val_loss: 4.5495\n",
      "Epoch 17/50\n",
      "33/33 - 0s - loss: 6.8739 - val_loss: 6.7246\n",
      "Epoch 18/50\n",
      "33/33 - 0s - loss: 6.7813 - val_loss: 4.3693\n",
      "Epoch 19/50\n",
      "33/33 - 0s - loss: 6.8609 - val_loss: 4.3343\n",
      "Epoch 20/50\n",
      "33/33 - 0s - loss: 6.9086 - val_loss: 4.4603\n",
      "Epoch 21/50\n",
      "33/33 - 0s - loss: 6.7902 - val_loss: 5.1659\n",
      "Epoch 22/50\n",
      "33/33 - 0s - loss: 6.4605 - val_loss: 5.2794\n",
      "Epoch 23/50\n",
      "33/33 - 0s - loss: 6.8007 - val_loss: 4.1765\n",
      "Epoch 24/50\n",
      "33/33 - 0s - loss: 6.7740 - val_loss: 5.3682\n",
      "Epoch 25/50\n",
      "33/33 - 0s - loss: 6.7592 - val_loss: 4.7590\n",
      "Epoch 26/50\n",
      "33/33 - 0s - loss: 6.4491 - val_loss: 4.7028\n",
      "Epoch 27/50\n",
      "33/33 - 0s - loss: 6.6172 - val_loss: 4.8643\n",
      "Epoch 28/50\n",
      "33/33 - 0s - loss: 6.7483 - val_loss: 4.6384\n",
      "Epoch 29/50\n",
      "33/33 - 0s - loss: 6.5366 - val_loss: 5.5720\n",
      "Epoch 30/50\n",
      "33/33 - 0s - loss: 6.4247 - val_loss: 4.4452\n",
      "Epoch 31/50\n",
      "33/33 - 0s - loss: 6.4687 - val_loss: 4.6774\n",
      "Epoch 32/50\n",
      "33/33 - 0s - loss: 6.5074 - val_loss: 4.7948\n",
      "Epoch 33/50\n",
      "33/33 - 0s - loss: 6.3018 - val_loss: 4.2747\n",
      "Epoch 34/50\n",
      "33/33 - 0s - loss: 6.2468 - val_loss: 4.1897\n",
      "Epoch 35/50\n",
      "33/33 - 0s - loss: 6.3629 - val_loss: 4.4988\n",
      "Epoch 36/50\n",
      "33/33 - 0s - loss: 6.1475 - val_loss: 4.1274\n",
      "Epoch 37/50\n",
      "33/33 - 0s - loss: 6.1889 - val_loss: 4.2009\n",
      "Epoch 38/50\n",
      "33/33 - 0s - loss: 6.2964 - val_loss: 4.1590\n",
      "Epoch 39/50\n",
      "33/33 - 0s - loss: 6.2714 - val_loss: 4.5188\n",
      "Epoch 40/50\n",
      "33/33 - 0s - loss: 6.3235 - val_loss: 4.4375\n",
      "Epoch 41/50\n",
      "33/33 - 0s - loss: 6.0808 - val_loss: 4.8997\n",
      "Epoch 42/50\n",
      "33/33 - 0s - loss: 6.1828 - val_loss: 4.1749\n",
      "Epoch 43/50\n",
      "33/33 - 0s - loss: 6.2258 - val_loss: 4.5832\n",
      "Epoch 44/50\n",
      "33/33 - 0s - loss: 6.0022 - val_loss: 5.0113\n",
      "Epoch 45/50\n",
      "33/33 - 0s - loss: 6.1519 - val_loss: 4.1049\n",
      "Epoch 46/50\n",
      "33/33 - 0s - loss: 6.1106 - val_loss: 4.6555\n",
      "Epoch 47/50\n",
      "33/33 - 0s - loss: 5.9832 - val_loss: 4.4206\n",
      "Epoch 48/50\n",
      "33/33 - 0s - loss: 6.2577 - val_loss: 3.8689\n",
      "Epoch 49/50\n",
      "33/33 - 0s - loss: 6.0581 - val_loss: 3.9087\n",
      "Epoch 50/50\n",
      "33/33 - 0s - loss: 6.0685 - val_loss: 4.4303\n"
     ]
    },
    {
     "data": {
      "text/plain": [
       "<keras.callbacks.History at 0x7f705b898450>"
      ]
     },
     "execution_count": 13,
     "metadata": {},
     "output_type": "execute_result"
    }
   ],
   "source": [
    "#train a dnn\n",
    "\n",
    "input_size = train_inputs.shape[1]\n",
    "hidden_size = 100\n",
    "output_size = 1\n",
    "\n",
    "model = tf.keras.Sequential([\n",
    "    tf.keras.layers.Dense(input_size, kernel_initializer='he_normal'),\n",
    "    tf.keras.layers.Dropout(.1),\n",
    "    tf.keras.layers.Dense(hidden_size, activation='relu'),\n",
    "    tf.keras.layers.Dropout(.1),\n",
    "    tf.keras.layers.Dense(hidden_size, activation='relu'),\n",
    "    tf.keras.layers.Dropout(.1),\n",
    "    tf.keras.layers.Dense(output_size, activation='relu')\n",
    "])\n",
    "\n",
    "opt = tf.keras.optimizers.Adam(\n",
    "        learning_rate=.0001\n",
    "    )\n",
    "\n",
    "model.compile(optimizer=opt, loss='mean_absolute_percentage_error')\n",
    "\n",
    "batch_size = 32\n",
    "max_epochs = 50\n",
    "\n",
    "model.fit(\n",
    "    train_inputs,\n",
    "    train_targets,\n",
    "    epochs = max_epochs,\n",
    "    batch_size = batch_size,\n",
    "    validation_data=(validation_inputs, validation_targets),\n",
    "    verbose=2\n",
    ")\n"
   ]
  },
  {
   "cell_type": "markdown",
   "id": "64a67328",
   "metadata": {
    "execution": {
     "iopub.execute_input": "2022-01-03T12:23:57.723967Z",
     "iopub.status.busy": "2022-01-03T12:23:57.723698Z",
     "iopub.status.idle": "2022-01-03T12:23:57.727936Z",
     "shell.execute_reply": "2022-01-03T12:23:57.726967Z",
     "shell.execute_reply.started": "2022-01-03T12:23:57.723940Z"
    },
    "papermill": {
     "duration": 0.059298,
     "end_time": "2022-01-03T12:26:53.894814",
     "exception": false,
     "start_time": "2022-01-03T12:26:53.835516",
     "status": "completed"
    },
    "tags": []
   },
   "source": [
    "### we got a 96% on the validation set"
   ]
  },
  {
   "cell_type": "markdown",
   "id": "b9ae6bce",
   "metadata": {
    "papermill": {
     "duration": 0.05188,
     "end_time": "2022-01-03T12:26:54.007114",
     "exception": false,
     "start_time": "2022-01-03T12:26:53.955234",
     "status": "completed"
    },
    "tags": []
   },
   "source": [
    "## lets try some other regression algorithms"
   ]
  },
  {
   "cell_type": "code",
   "execution_count": 14,
   "id": "331664f4",
   "metadata": {
    "execution": {
     "iopub.execute_input": "2022-01-03T12:26:54.110352Z",
     "iopub.status.busy": "2022-01-03T12:26:54.108180Z",
     "iopub.status.idle": "2022-01-03T12:26:57.102901Z",
     "shell.execute_reply": "2022-01-03T12:26:57.103486Z",
     "shell.execute_reply.started": "2022-01-03T12:17:42.590068Z"
    },
    "papermill": {
     "duration": 3.047773,
     "end_time": "2022-01-03T12:26:57.103664",
     "exception": false,
     "start_time": "2022-01-03T12:26:54.055891",
     "status": "completed"
    },
    "tags": []
   },
   "outputs": [
    {
     "data": {
      "text/plain": [
       "0.8228506453266159"
      ]
     },
     "execution_count": 14,
     "metadata": {},
     "output_type": "execute_result"
    }
   ],
   "source": [
    "from sklearn.ensemble import RandomForestRegressor\n",
    "\n",
    "r_reg = RandomForestRegressor()\n",
    "r_reg.fit(train_inputs, train_targets)\n",
    "r_reg.score(validation_inputs, validation_targets)"
   ]
  },
  {
   "cell_type": "code",
   "execution_count": 15,
   "id": "c275fad6",
   "metadata": {
    "execution": {
     "iopub.execute_input": "2022-01-03T12:26:57.207253Z",
     "iopub.status.busy": "2022-01-03T12:26:57.206520Z",
     "iopub.status.idle": "2022-01-03T12:26:57.278624Z",
     "shell.execute_reply": "2022-01-03T12:26:57.277867Z",
     "shell.execute_reply.started": "2022-01-03T12:17:45.152454Z"
    },
    "papermill": {
     "duration": 0.12526,
     "end_time": "2022-01-03T12:26:57.278776",
     "exception": false,
     "start_time": "2022-01-03T12:26:57.153516",
     "status": "completed"
    },
    "tags": []
   },
   "outputs": [
    {
     "data": {
      "text/plain": [
       "0.7647301335886396"
      ]
     },
     "execution_count": 15,
     "metadata": {},
     "output_type": "execute_result"
    }
   ],
   "source": [
    "from sklearn.tree import DecisionTreeRegressor \n",
    "\n",
    "d_reg = DecisionTreeRegressor()\n",
    "d_reg.fit(train_inputs, train_targets)\n",
    "d_reg.score(validation_inputs, validation_targets)"
   ]
  },
  {
   "cell_type": "markdown",
   "id": "e1d6f63e",
   "metadata": {
    "papermill": {
     "duration": 0.060813,
     "end_time": "2022-01-03T12:26:57.394233",
     "exception": false,
     "start_time": "2022-01-03T12:26:57.333420",
     "status": "completed"
    },
    "tags": []
   },
   "source": [
    "### we get on the first 81% and on the second 76% which is way lower than our deep netwok"
   ]
  }
 ],
 "metadata": {
  "kernelspec": {
   "display_name": "Python 3",
   "language": "python",
   "name": "python3"
  },
  "language_info": {
   "codemirror_mode": {
    "name": "ipython",
    "version": 3
   },
   "file_extension": ".py",
   "mimetype": "text/x-python",
   "name": "python",
   "nbconvert_exporter": "python",
   "pygments_lexer": "ipython3",
   "version": "3.9.7"
  },
  "papermill": {
   "default_parameters": {},
   "duration": 47.796058,
   "end_time": "2022-01-03T12:27:00.556155",
   "environment_variables": {},
   "exception": null,
   "input_path": "__notebook__.ipynb",
   "output_path": "__notebook__.ipynb",
   "parameters": {},
   "start_time": "2022-01-03T12:26:12.760097",
   "version": "2.3.3"
  }
 },
 "nbformat": 4,
 "nbformat_minor": 5
}
